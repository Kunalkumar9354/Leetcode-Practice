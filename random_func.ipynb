{
  "nbformat": 4,
  "nbformat_minor": 0,
  "metadata": {
    "colab": {
      "provenance": [],
      "authorship_tag": "ABX9TyNnXnvUoLbhD9LMsdBV9exM",
      "include_colab_link": true
    },
    "kernelspec": {
      "name": "python3",
      "display_name": "Python 3"
    },
    "language_info": {
      "name": "python"
    }
  },
  "cells": [
    {
      "cell_type": "markdown",
      "metadata": {
        "id": "view-in-github",
        "colab_type": "text"
      },
      "source": [
        "<a href=\"https://colab.research.google.com/github/Kunalkumar9354/Leetcode-Practice/blob/main/random_func.ipynb\" target=\"_parent\"><img src=\"https://colab.research.google.com/assets/colab-badge.svg\" alt=\"Open In Colab\"/></a>"
      ]
    },
    {
      "cell_type": "code",
      "execution_count": 2,
      "metadata": {
        "id": "PdlXiPb2R2Us"
      },
      "outputs": [],
      "source": [
        "import numpy as np\n",
        "import matplotlib.pyplot as plt\n",
        "%matplotlib inline"
      ]
    },
    {
      "cell_type": "code",
      "source": [
        "np.random.random()"
      ],
      "metadata": {
        "colab": {
          "base_uri": "https://localhost:8080/"
        },
        "id": "oj2Lw8mITyHT",
        "outputId": "3cd94a67-feab-46de-dc8f-72460afc8fca"
      },
      "execution_count": 4,
      "outputs": [
        {
          "output_type": "execute_result",
          "data": {
            "text/plain": [
              "0.8519230104436862"
            ]
          },
          "metadata": {},
          "execution_count": 4
        }
      ]
    },
    {
      "cell_type": "code",
      "source": [
        "np.random.random(2)"
      ],
      "metadata": {
        "colab": {
          "base_uri": "https://localhost:8080/"
        },
        "id": "sGWzPryvUHoz",
        "outputId": "bd9b7d8b-cf31-495c-872d-b92509e2597c"
      },
      "execution_count": 6,
      "outputs": [
        {
          "output_type": "execute_result",
          "data": {
            "text/plain": [
              "array([0.22282684, 0.9776913 ])"
            ]
          },
          "metadata": {},
          "execution_count": 6
        }
      ]
    },
    {
      "cell_type": "code",
      "source": [
        "np.random.random((4,4))"
      ],
      "metadata": {
        "colab": {
          "base_uri": "https://localhost:8080/"
        },
        "id": "dsPMrH8qUL1V",
        "outputId": "1bb7ae2f-c05c-426c-c39b-86acf520ab6c"
      },
      "execution_count": 9,
      "outputs": [
        {
          "output_type": "execute_result",
          "data": {
            "text/plain": [
              "array([[0.54698079, 0.27393516, 0.4169128 , 0.7235344 ],\n",
              "       [0.45446915, 0.13525176, 0.98116461, 0.21993933],\n",
              "       [0.44992532, 0.75280158, 0.36578284, 0.15650103],\n",
              "       [0.87667128, 0.93279451, 0.2953671 , 0.73329288]])"
            ]
          },
          "metadata": {},
          "execution_count": 9
        }
      ]
    },
    {
      "cell_type": "code",
      "source": [
        "np.random.randint(1,10)"
      ],
      "metadata": {
        "colab": {
          "base_uri": "https://localhost:8080/"
        },
        "id": "gJ83C_NHUTvF",
        "outputId": "52861dd2-ec7a-47f6-d076-6a959e4549e6"
      },
      "execution_count": 12,
      "outputs": [
        {
          "output_type": "execute_result",
          "data": {
            "text/plain": [
              "4"
            ]
          },
          "metadata": {},
          "execution_count": 12
        }
      ]
    },
    {
      "cell_type": "code",
      "source": [
        "np.random.randint(1,10,(2,2))"
      ],
      "metadata": {
        "colab": {
          "base_uri": "https://localhost:8080/"
        },
        "id": "NFNQ_9SkUiSy",
        "outputId": "ceabdb87-6bd9-4227-f003-78cf0438dc5f"
      },
      "execution_count": 13,
      "outputs": [
        {
          "output_type": "execute_result",
          "data": {
            "text/plain": [
              "array([[3, 9],\n",
              "       [5, 4]])"
            ]
          },
          "metadata": {},
          "execution_count": 13
        }
      ]
    },
    {
      "cell_type": "code",
      "source": [
        "np.random.randint(1,10,(3,4,5))"
      ],
      "metadata": {
        "colab": {
          "base_uri": "https://localhost:8080/"
        },
        "id": "IaWXB_jcVUJe",
        "outputId": "e7303527-8e36-44d6-b578-4be32831640b"
      },
      "execution_count": 16,
      "outputs": [
        {
          "output_type": "execute_result",
          "data": {
            "text/plain": [
              "array([[[9, 4, 7, 1, 6],\n",
              "        [1, 6, 2, 8, 8],\n",
              "        [4, 5, 4, 6, 4],\n",
              "        [5, 4, 2, 9, 8]],\n",
              "\n",
              "       [[9, 7, 1, 2, 9],\n",
              "        [4, 9, 4, 4, 9],\n",
              "        [6, 6, 8, 1, 8],\n",
              "        [7, 5, 7, 6, 2]],\n",
              "\n",
              "       [[2, 9, 2, 7, 8],\n",
              "        [4, 8, 9, 2, 8],\n",
              "        [4, 9, 5, 9, 2],\n",
              "        [5, 7, 6, 8, 1]]])"
            ]
          },
          "metadata": {},
          "execution_count": 16
        }
      ]
    },
    {
      "cell_type": "code",
      "source": [
        "np.random.randn(3,4,5) #3 layer 4 rows 5 column\n",
        "a=np.arange(1,10)\n",
        "print(a)\n",
        "np.random.choice(a)"
      ],
      "metadata": {
        "colab": {
          "base_uri": "https://localhost:8080/"
        },
        "id": "AcSV1I-5VZ1f",
        "outputId": "729e640c-ca3e-44c9-9c67-b09c66963dfb"
      },
      "execution_count": 26,
      "outputs": [
        {
          "output_type": "stream",
          "name": "stdout",
          "text": [
            "[1 2 3 4 5 6 7 8 9]\n"
          ]
        },
        {
          "output_type": "execute_result",
          "data": {
            "text/plain": [
              "7"
            ]
          },
          "metadata": {},
          "execution_count": 26
        }
      ]
    },
    {
      "cell_type": "code",
      "source": [],
      "metadata": {
        "id": "a5MMJR5yWTKA"
      },
      "execution_count": null,
      "outputs": []
    }
  ]
}