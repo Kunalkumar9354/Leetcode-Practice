{
 "cells": [
  {
   "cell_type": "code",
   "execution_count": 4,
   "id": "fac18761",
   "metadata": {},
   "outputs": [
    {
     "name": "stdout",
     "output_type": "stream",
     "text": [
      "7\n"
     ]
    }
   ],
   "source": [
    "def find(arr,target):\n",
    "    n=len(arr)\n",
    "    low=0\n",
    "    high=n-1\n",
    "    while(low<=high):\n",
    "        mid=(low+high)//2\n",
    "        if arr[mid]==target:\n",
    "            return mid  # index of  arr[mid]\n",
    "        elif target> arr[mid]:\n",
    "            low= mid+1\n",
    "        else:\n",
    "            high=mid-1\n",
    "    return -1\n",
    "arr =[1,2,3,6,7,8,9,11]\n",
    "target=11\n",
    "print(find(arr,target))"
   ]
  },
  {
   "cell_type": "code",
   "execution_count": 5,
   "id": "0f1d8e7f",
   "metadata": {},
   "outputs": [
    {
     "name": "stdout",
     "output_type": "stream",
     "text": [
      "7\n"
     ]
    }
   ],
   "source": [
    "def find(arr,target): #iterative approach \n",
    "    n=len(arr)\n",
    "    low=0\n",
    "    high=n-1\n",
    "    while(low<=high):\n",
    "        mid=low+high//2\n",
    "        if arr[mid]== target:\n",
    "            return mid\n",
    "        elif arr[mid]< target:\n",
    "            low=mid+1\n",
    "        else:\n",
    "            high=mid-1\n",
    "    return -1\n",
    "arr =[1,2,3,6,7,8,9,11]\n",
    "target=11\n",
    "print(find(arr,target))"
   ]
  },
  {
   "cell_type": "code",
   "execution_count": 6,
   "id": "099429f5",
   "metadata": {},
   "outputs": [
    {
     "name": "stdout",
     "output_type": "stream",
     "text": [
      "-1\n"
     ]
    }
   ],
   "source": [
    "# liner search\n",
    "def  find(arr,target):\n",
    "    n=len(arr)\n",
    "    for i in range(n):\n",
    "        if arr[i]== target:\n",
    "            return i\n",
    "    return -1\n",
    "arr =[1,2,3,6,7,8,9,11]\n",
    "target=15\n",
    "print(find(arr,target))"
   ]
  },
  {
   "cell_type": "code",
   "execution_count": null,
   "id": "58cc2408",
   "metadata": {},
   "outputs": [],
   "source": []
  }
 ],
 "metadata": {
  "kernelspec": {
   "display_name": "Python 3 (ipykernel)",
   "language": "python",
   "name": "python3"
  },
  "language_info": {
   "codemirror_mode": {
    "name": "ipython",
    "version": 3
   },
   "file_extension": ".py",
   "mimetype": "text/x-python",
   "name": "python",
   "nbconvert_exporter": "python",
   "pygments_lexer": "ipython3",
   "version": "3.10.11"
  }
 },
 "nbformat": 4,
 "nbformat_minor": 5
}
