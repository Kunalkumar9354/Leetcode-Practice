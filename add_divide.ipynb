{
  "nbformat": 4,
  "nbformat_minor": 0,
  "metadata": {
    "colab": {
      "provenance": [],
      "authorship_tag": "ABX9TyMLDkTzgJTliagKbcIU4Aw/",
      "include_colab_link": true
    },
    "kernelspec": {
      "name": "python3",
      "display_name": "Python 3"
    },
    "language_info": {
      "name": "python"
    }
  },
  "cells": [
    {
      "cell_type": "markdown",
      "metadata": {
        "id": "view-in-github",
        "colab_type": "text"
      },
      "source": [
        "<a href=\"https://colab.research.google.com/github/Kunalkumar9354/Leetcode-Practice/blob/main/add_divide.ipynb\" target=\"_parent\"><img src=\"https://colab.research.google.com/assets/colab-badge.svg\" alt=\"Open In Colab\"/></a>"
      ]
    },
    {
      "cell_type": "code",
      "execution_count": 1,
      "metadata": {
        "id": "zrleN_Qb8ngT"
      },
      "outputs": [],
      "source": [
        "import numpy as np\n"
      ]
    },
    {
      "cell_type": "code",
      "source": [
        "a=np.arange(0,18).reshape(6,3)\n",
        "b=np.arange(20,38).reshape(6,3)\n",
        "print(a)\n",
        "print(b)"
      ],
      "metadata": {
        "colab": {
          "base_uri": "https://localhost:8080/"
        },
        "id": "cZOIKuaI81s2",
        "outputId": "34a8b49a-f335-4853-f9e8-445b15ea8afd"
      },
      "execution_count": 3,
      "outputs": [
        {
          "output_type": "stream",
          "name": "stdout",
          "text": [
            "[[ 0  1  2]\n",
            " [ 3  4  5]\n",
            " [ 6  7  8]\n",
            " [ 9 10 11]\n",
            " [12 13 14]\n",
            " [15 16 17]]\n",
            "[[20 21 22]\n",
            " [23 24 25]\n",
            " [26 27 28]\n",
            " [29 30 31]\n",
            " [32 33 34]\n",
            " [35 36 37]]\n"
          ]
        }
      ]
    },
    {
      "cell_type": "code",
      "source": [
        "np.add(a,b) #same index will be added"
      ],
      "metadata": {
        "colab": {
          "base_uri": "https://localhost:8080/"
        },
        "id": "mzyz890P9BTy",
        "outputId": "418d9531-b707-4d1c-9c1c-06b8d4672ce3"
      },
      "execution_count": 4,
      "outputs": [
        {
          "output_type": "execute_result",
          "data": {
            "text/plain": [
              "array([[20, 22, 24],\n",
              "       [26, 28, 30],\n",
              "       [32, 34, 36],\n",
              "       [38, 40, 42],\n",
              "       [44, 46, 48],\n",
              "       [50, 52, 54]])"
            ]
          },
          "metadata": {},
          "execution_count": 4
        }
      ]
    },
    {
      "cell_type": "code",
      "source": [
        "np.multiply(a,b) #matrix function"
      ],
      "metadata": {
        "colab": {
          "base_uri": "https://localhost:8080/"
        },
        "id": "e_VOTmU69Svw",
        "outputId": "691f75f0-f325-4bf6-d874-e79b37fa30a1"
      },
      "execution_count": 5,
      "outputs": [
        {
          "output_type": "execute_result",
          "data": {
            "text/plain": [
              "array([[  0,  21,  44],\n",
              "       [ 69,  96, 125],\n",
              "       [156, 189, 224],\n",
              "       [261, 300, 341],\n",
              "       [384, 429, 476],\n",
              "       [525, 576, 629]])"
            ]
          },
          "metadata": {},
          "execution_count": 5
        }
      ]
    },
    {
      "cell_type": "code",
      "source": [
        "np.divide(a,b)"
      ],
      "metadata": {
        "colab": {
          "base_uri": "https://localhost:8080/"
        },
        "id": "VQagsGXE9jjS",
        "outputId": "91bc66c9-1d74-42ea-8bc6-affa469cdf9c"
      },
      "execution_count": 11,
      "outputs": [
        {
          "output_type": "execute_result",
          "data": {
            "text/plain": [
              "array([[0.        , 0.04761905, 0.09090909],\n",
              "       [0.13043478, 0.16666667, 0.2       ],\n",
              "       [0.23076923, 0.25925926, 0.28571429],\n",
              "       [0.31034483, 0.33333333, 0.35483871],\n",
              "       [0.375     , 0.39393939, 0.41176471],\n",
              "       [0.42857143, 0.44444444, 0.45945946]])"
            ]
          },
          "metadata": {},
          "execution_count": 11
        }
      ]
    },
    {
      "cell_type": "code",
      "source": [
        "b=b.reshape(3,6)"
      ],
      "metadata": {
        "id": "gDuax7DB9y76"
      },
      "execution_count": 22,
      "outputs": []
    },
    {
      "cell_type": "code",
      "source": [
        "print(a.dot(b))"
      ],
      "metadata": {
        "colab": {
          "base_uri": "https://localhost:8080/"
        },
        "id": "WH03BavL-DUb",
        "outputId": "5d59f2fe-4d8a-47f2-dd8f-c00de6b2dbe4"
      },
      "execution_count": 27,
      "outputs": [
        {
          "output_type": "stream",
          "name": "stdout",
          "text": [
            "[[  90   93   96   99  102  105]\n",
            " [ 324  336  348  360  372  384]\n",
            " [ 558  579  600  621  642  663]\n",
            " [ 792  822  852  882  912  942]\n",
            " [1026 1065 1104 1143 1182 1221]\n",
            " [1260 1308 1356 1404 1452 1500]]\n"
          ]
        }
      ]
    },
    {
      "cell_type": "code",
      "source": [
        "print(a.max())\n",
        "print(b.max())\n",
        "print(a.min())\n",
        "print(b.min())\n",
        "print(a.argmax()) #  return the index of that element\n",
        "print(np.sum(a))\n",
        "print(np.sum(b))\n"
      ],
      "metadata": {
        "colab": {
          "base_uri": "https://localhost:8080/"
        },
        "id": "GW1kAcf7B5N5",
        "outputId": "16eb7092-fdeb-4472-a582-3b5c4f4e33e2"
      },
      "execution_count": 36,
      "outputs": [
        {
          "output_type": "stream",
          "name": "stdout",
          "text": [
            "17\n",
            "37\n",
            "0\n",
            "20\n",
            "17\n",
            "153\n",
            "513\n"
          ]
        }
      ]
    },
    {
      "cell_type": "code",
      "source": [
        "print(np.sum(a, axis=1)) #axes=1 rows\n",
        "#axes= 0 column"
      ],
      "metadata": {
        "colab": {
          "base_uri": "https://localhost:8080/"
        },
        "id": "rjIyo7ljCazp",
        "outputId": "88c628c1-5c05-4add-ff29-08e94319e3d0"
      },
      "execution_count": 40,
      "outputs": [
        {
          "output_type": "stream",
          "name": "stdout",
          "text": [
            "[ 3 12 21 30 39 48]\n"
          ]
        }
      ]
    },
    {
      "cell_type": "code",
      "source": [
        "print(np.sum(b,axis=0))\n",
        "print(np.mean(a))\n",
        "print(abs((np.std(b))))\n",
        "print(np.sqrt(a))\n",
        "print(np.log(b)) #natural log\n"
      ],
      "metadata": {
        "colab": {
          "base_uri": "https://localhost:8080/"
        },
        "id": "Jq_uQ54aDpra",
        "outputId": "e2bf77f6-9432-425b-ef72-a52469ffff03"
      },
      "execution_count": 47,
      "outputs": [
        {
          "output_type": "stream",
          "name": "stdout",
          "text": [
            "[78 81 84 87 90 93]\n",
            "8.5\n",
            "5.188127472091127\n",
            "[[0.         1.         1.41421356]\n",
            " [1.73205081 2.         2.23606798]\n",
            " [2.44948974 2.64575131 2.82842712]\n",
            " [3.         3.16227766 3.31662479]\n",
            " [3.46410162 3.60555128 3.74165739]\n",
            " [3.87298335 4.         4.12310563]]\n",
            "[[2.99573227 3.04452244 3.09104245 3.13549422 3.17805383 3.21887582]\n",
            " [3.25809654 3.29583687 3.33220451 3.36729583 3.40119738 3.4339872 ]\n",
            " [3.4657359  3.49650756 3.52636052 3.55534806 3.58351894 3.61091791]]\n"
          ]
        }
      ]
    },
    {
      "cell_type": "code",
      "source": [],
      "metadata": {
        "id": "29UzEKY2EBZX"
      },
      "execution_count": null,
      "outputs": []
    }
  ]
}