{
  "nbformat": 4,
  "nbformat_minor": 0,
  "metadata": {
    "colab": {
      "provenance": [],
      "authorship_tag": "ABX9TyMHqYl3ziZbQfqGQNhsa/LO",
      "include_colab_link": true
    },
    "kernelspec": {
      "name": "python3",
      "display_name": "Python 3"
    },
    "language_info": {
      "name": "python"
    }
  },
  "cells": [
    {
      "cell_type": "markdown",
      "metadata": {
        "id": "view-in-github",
        "colab_type": "text"
      },
      "source": [
        "<a href=\"https://colab.research.google.com/github/Kunalkumar9354/Leetcode-Practice/blob/main/oopsConcept.ipynb\" target=\"_parent\"><img src=\"https://colab.research.google.com/assets/colab-badge.svg\" alt=\"Open In Colab\"/></a>"
      ]
    },
    {
      "cell_type": "markdown",
      "source": [
        "OOPs-It is used to map the entity with real world *concept*"
      ],
      "metadata": {
        "id": "mbEXpjH2yque"
      }
    },
    {
      "cell_type": "code",
      "execution_count": 1,
      "metadata": {
        "colab": {
          "base_uri": "https://localhost:8080/"
        },
        "id": "CSA9ldl8xbNt",
        "outputId": "3342b9b2-bb79-4c81-cc6a-16195eeaf3ad"
      },
      "outputs": [
        {
          "output_type": "stream",
          "name": "stdout",
          "text": [
            "hello\n"
          ]
        }
      ],
      "source": [
        "def hello():\n",
        "  x=\"hello\"\n",
        "  return x\n",
        "print(hello())"
      ]
    },
    {
      "cell_type": "code",
      "source": [
        "class Person:\n",
        "  name=\"Kunal\"\n",
        "  occupataion=\"Data Analyst\"\n",
        "  net_worth=\"10$\"\n",
        "  def info(self,name,occupataion): # creation of method\n",
        "    print(f\"name is{self.name}and occupation is {self.occupation}\")\n",
        "a=Person() # cretion of object\n",
        "# print(a.name)\n",
        "# print(a.occupataion)\n",
        "# print(a.net_worth)\n",
        "a.name=\"Amit\"\n",
        "a.occupataion=\"Data Scientist\"\n",
        "a.net_worth=\"1000$\"\n",
        "# print(a.name,a.net_worth)\n",
        "a.info()"
      ],
      "metadata": {
        "colab": {
          "base_uri": "https://localhost:8080/",
          "height": 217
        },
        "id": "QVlKzYZux43a",
        "outputId": "007bd4a7-e4e9-4e9f-921c-3005fb9737e5"
      },
      "execution_count": 12,
      "outputs": [
        {
          "output_type": "error",
          "ename": "TypeError",
          "evalue": "ignored",
          "traceback": [
            "\u001b[0;31m---------------------------------------------------------------------------\u001b[0m",
            "\u001b[0;31mTypeError\u001b[0m                                 Traceback (most recent call last)",
            "\u001b[0;32m<ipython-input-12-03aa8637d31e>\u001b[0m in \u001b[0;36m<cell line: 15>\u001b[0;34m()\u001b[0m\n\u001b[1;32m     13\u001b[0m \u001b[0;31m# a.net_worth=\"1000$\"\u001b[0m\u001b[0;34m\u001b[0m\u001b[0;34m\u001b[0m\u001b[0m\n\u001b[1;32m     14\u001b[0m \u001b[0;31m# print(a.name,a.net_worth)\u001b[0m\u001b[0;34m\u001b[0m\u001b[0;34m\u001b[0m\u001b[0m\n\u001b[0;32m---> 15\u001b[0;31m \u001b[0ma\u001b[0m\u001b[0;34m.\u001b[0m\u001b[0minfo\u001b[0m\u001b[0;34m(\u001b[0m\u001b[0;34m)\u001b[0m\u001b[0;34m\u001b[0m\u001b[0;34m\u001b[0m\u001b[0m\n\u001b[0m",
            "\u001b[0;31mTypeError\u001b[0m: Person.info() missing 2 required positional arguments: 'name' and 'occupataion'"
          ]
        }
      ]
    },
    {
      "cell_type": "code",
      "source": [
        "class Person:\n",
        "  name=\"Kunal\"\n",
        "  occupation=\"Data Analyst\"\n",
        "  networth=\"500$\"\n",
        "  def info(self,name,networth):\n",
        "    print(f\"Name is {self.name} and networth is{self.networth}\")\n",
        "a=Person()\n",
        "a.info(\"name\",\"networth\") #calling the function"
      ],
      "metadata": {
        "colab": {
          "base_uri": "https://localhost:8080/"
        },
        "id": "1Q1UmaU01eJA",
        "outputId": "7f997fe9-a686-43bc-f4ee-d9e619668f7e"
      },
      "execution_count": 16,
      "outputs": [
        {
          "output_type": "stream",
          "name": "stdout",
          "text": [
            "Name is Kunal and networth is500$\n"
          ]
        }
      ]
    },
    {
      "cell_type": "code",
      "source": [
        "class Person:\n",
        "  name=\"Kunal\"\n",
        "  occupation=\"Data Analyst\"\n",
        "  networth=\"500$\"\n",
        "  def info(self,name,networth):\n",
        "    print(f\"Name is={self.name} and networth is={self.networth}\")\n",
        "a=Person()\n",
        "b=Person()\n",
        "c=Person()\n",
        "a.name=\"Shubham\"\n",
        "a.occupation= \"playboy\"\n",
        "a.networth=\"50,000$\"\n",
        "b.name=\"Krutika\"\n",
        "b.occupation=\"Hr\"\n",
        "b.networth=\"10000$\"\n",
        "a.info(\"name\",\"networth\") #calling the function\n",
        "b.info(\"name\",\"networth\")\n",
        "c.info(\"name\",\"networth\")"
      ],
      "metadata": {
        "colab": {
          "base_uri": "https://localhost:8080/"
        },
        "id": "MqVvjc4x4gjH",
        "outputId": "5500289d-d47f-4b14-e391-96276463c9bb"
      },
      "execution_count": 22,
      "outputs": [
        {
          "output_type": "stream",
          "name": "stdout",
          "text": [
            "Name is=Shubham and networth is=50,000$\n",
            "Name is=Krutika and networth is=10000$\n",
            "Name is=Kunal and networth is=500$\n"
          ]
        }
      ]
    },
    {
      "cell_type": "markdown",
      "source": [
        "self = vo object jispe yeh method call hora h"
      ],
      "metadata": {
        "id": "BPSKj9Kt5UKB"
      }
    },
    {
      "cell_type": "code",
      "source": [],
      "metadata": {
        "id": "AJW5aG6-48tt"
      },
      "execution_count": null,
      "outputs": []
    }
  ]
}